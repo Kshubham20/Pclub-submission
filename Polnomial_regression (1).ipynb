{
  "nbformat": 4,
  "nbformat_minor": 0,
  "metadata": {
    "colab": {
      "name": "Polnomial regression.ipynb",
      "provenance": []
    },
    "kernelspec": {
      "name": "python3",
      "display_name": "Python 3"
    },
    "language_info": {
      "name": "python"
    },
    "accelerator": "GPU"
  },
  "cells": [
    {
      "cell_type": "code",
      "metadata": {
        "id": "zqkD678cWdKI"
      },
      "source": [
        "import numpy as np\n",
        "import matplotlib.pyplot as plt\n"
      ],
      "execution_count": 1,
      "outputs": []
    },
    {
      "cell_type": "code",
      "metadata": {
        "colab": {
          "base_uri": "https://localhost:8080/",
          "height": 265
        },
        "id": "ahfGCharXpMV",
        "outputId": "9a549371-86c9-4c94-802f-d29aabba555e"
      },
      "source": [
        "np.random.seed(0)\n",
        "x=2+3*np.random.normal(0,1,100)\n",
        "y=x+0.5*(x**2)+np.random.normal(-3,3,100)\n",
        "plt.scatter(x,y,s=10)\n",
        "plt.show()"
      ],
      "execution_count": 2,
      "outputs": [
        {
          "output_type": "display_data",
          "data": {
            "image/png": "[encoded data removed]",
            "text/plain": [
              "<Figure size 432x288 with 1 Axes>"
            ]
          },
          "metadata": {
            "needs_background": "light"
          }
        }
      ]
    },
    {
      "cell_type": "code",
      "metadata": {
        "id": "PIFGVK85X3Ha"
      },
      "source": [
        "x=x[:,np.newaxis]\n",
        "y=y[:,np.newaxis]"
      ],
      "execution_count": 3,
      "outputs": []
    },
    {
      "cell_type": "code",
      "metadata": {
        "id": "ngMtF6WOYCIn"
      },
      "source": [
        "x2=x[:]**2\n",
        "ones = np.ones([x.shape[0], 1]) \n",
        "X = np.concatenate([ones, x,x2],1)"
      ],
      "execution_count": 4,
      "outputs": []
    },
    {
      "cell_type": "code",
      "metadata": {
        "id": "O0L-R4-jYb6U"
      },
      "source": [
        "alpha = 0.1\n",
        "iters = 2\n",
        "theta = np.array([[1.0, 1.0,1.0]])"
      ],
      "execution_count": 5,
      "outputs": []
    },
    {
      "cell_type": "markdown",
      "metadata": {
        "id": "vhjg7W-scJkR"
      },
      "source": [
        "**Using loss function |x-x'|^4**"
      ]
    },
    {
      "cell_type": "code",
      "metadata": {
        "id": "G6Q0WC0qYfQU"
      },
      "source": [
        "def computeCost(X, y, theta):\n",
        "    inner = np.power(((X @ theta.T) - y), 4) \n",
        "    return np.sum(inner) / (len(X))"
      ],
      "execution_count": 6,
      "outputs": []
    },
    {
      "cell_type": "code",
      "metadata": {
        "colab": {
          "base_uri": "https://localhost:8080/"
        },
        "id": "OnIdFKT4ZRsi",
        "outputId": "cb4dc7f9-4f59-4b12-9fec-cf85945e51b6"
      },
      "source": [
        "computeCost(X, y, theta)"
      ],
      "execution_count": 7,
      "outputs": [
        {
          "output_type": "execute_result",
          "data": {
            "text/plain": [
              "159068.3736217764"
            ]
          },
          "metadata": {},
          "execution_count": 7
        }
      ]
    },
    {
      "cell_type": "code",
      "metadata": {
        "id": "Kk_oI24tZWVE"
      },
      "source": [
        "def gradientDescent(X, y, theta, alpha, iters):\n",
        "    for i in range(iters):\n",
        "        theta = theta - ((4*alpha)/(len(X))) * np.sum(np.power(abs(X @ theta.T - y),3) * X, axis=0)\n",
        "        cost = computeCost(X, y, theta)\n",
        "        \n",
        "    return (theta, cost)"
      ],
      "execution_count": 8,
      "outputs": []
    },
    {
      "cell_type": "code",
      "metadata": {
        "colab": {
          "base_uri": "https://localhost:8080/"
        },
        "id": "SqrfGVBKZsZM",
        "outputId": "3d405ecc-50e8-44f3-9b61-9f16f5fbedcb"
      },
      "source": [
        "g, cost = gradientDescent(X, y, theta, alpha, iters)  \n",
        "print(g, cost)"
      ],
      "execution_count": 9,
      "outputs": [
        {
          "output_type": "stream",
          "text": [
            "[[-1.35746870e+19 -1.00249275e+20 -7.91122609e+20]] 6.184181658025238e+89\n"
          ],
          "name": "stdout"
        }
      ]
    },
    {
      "cell_type": "code",
      "metadata": {
        "id": "b90x9lL3bltL"
      },
      "source": [
        "y_hat = theta*X\n",
        "y_hat = np.sum(y_hat, axis=1)"
      ],
      "execution_count": 10,
      "outputs": []
    },
    {
      "cell_type": "code",
      "metadata": {
        "colab": {
          "base_uri": "https://localhost:8080/",
          "height": 265
        },
        "id": "m_Q89MK9bodN",
        "outputId": "905c113b-8fe7-45d1-b35d-e174a8b500ab"
      },
      "source": [
        "%matplotlib inline\n",
        "import matplotlib.pyplot as plt\n",
        "plt.figure()\n",
        "plt.scatter(x=x,y= y)          \n",
        "plt.scatter(x=x, y=y_hat)\n",
        "plt.show()"
      ],
      "execution_count": 11,
      "outputs": [
        {
          "output_type": "display_data",
          "data": {
            "image/png": "[encoded data removed]",
            "text/plain": [
              "<Figure size 432x288 with 1 Axes>"
            ]
          },
          "metadata": {
            "needs_background": "light"
          }
        }
      ]
    },
    {
      "cell_type": "markdown",
      "metadata": {
        "id": "8ncevrrNcZMg"
      },
      "source": [
        "**Using loss function |x-x'|^7**"
      ]
    },
    {
      "cell_type": "code",
      "metadata": {
        "id": "C_MOKf1BcqKL"
      },
      "source": [
        "alpha = 0.1\n",
        "iters = 2\n",
        "theta2 = np.array([[1.0, 1.0,1.0]])"
      ],
      "execution_count": 12,
      "outputs": []
    },
    {
      "cell_type": "code",
      "metadata": {
        "id": "GQq7_2u9cyke"
      },
      "source": [
        "def computeCost(X, y, theta2):\n",
        "    inner = np.sum(np.power(abs((X @ theta2.T) - y),7))\n",
        "    return inner / (len(X))"
      ],
      "execution_count": 13,
      "outputs": []
    },
    {
      "cell_type": "code",
      "metadata": {
        "colab": {
          "base_uri": "https://localhost:8080/"
        },
        "id": "KScnG6cKpcry",
        "outputId": "c7f4ef61-e645-45d1-a11f-449c0278c3a5"
      },
      "source": [
        "computeCost(X, y, theta2)"
      ],
      "execution_count": 14,
      "outputs": [
        {
          "output_type": "execute_result",
          "data": {
            "text/plain": [
              "8068884839.605289"
            ]
          },
          "metadata": {},
          "execution_count": 14
        }
      ]
    },
    {
      "cell_type": "code",
      "metadata": {
        "id": "EI6ZeyBoc7xS"
      },
      "source": [
        "def gradientDescent(X, y, theta2, alpha, iters):\n",
        "    for i in range(iters):\n",
        "        theta2 = theta2 -  ((7*alpha)/(len(X))) * np.sum(np.power((X @ theta.T - y),6) * X, axis=0)\n",
        "        cost = computeCost(X, y, theta)\n",
        "        \n",
        "    return (theta2, cost)"
      ],
      "execution_count": 15,
      "outputs": []
    },
    {
      "cell_type": "code",
      "metadata": {
        "colab": {
          "base_uri": "https://localhost:8080/"
        },
        "id": "X8Q5IqCxdCqN",
        "outputId": "40a7b943-992c-4c5f-c7fd-0101d2d311e0"
      },
      "source": [
        "g, cost = gradientDescent(X, y, theta2, alpha,   iters)\n",
        "print(g, cost)"
      ],
      "execution_count": 16,
      "outputs": [
        {
          "output_type": "stream",
          "text": [
            "[[-2.89844491e+08 -2.36087569e+09 -1.95819888e+10]] 8068884839.605289\n"
          ],
          "name": "stdout"
        }
      ]
    },
    {
      "cell_type": "code",
      "metadata": {
        "id": "Ih4KW6YadGZQ"
      },
      "source": [
        "y_hat = theta2*X\n",
        "y_hat = np.sum(y_hat, axis=1)"
      ],
      "execution_count": 17,
      "outputs": []
    },
    {
      "cell_type": "code",
      "metadata": {
        "colab": {
          "base_uri": "https://localhost:8080/",
          "height": 265
        },
        "id": "EuWi5KXCdkyp",
        "outputId": "81067d8c-f70e-4124-8f23-7858c9d1039f"
      },
      "source": [
        "%matplotlib inline\n",
        "import matplotlib.pyplot as plt\n",
        "plt.figure()\n",
        "plt.scatter(x=x,y= y)          \n",
        "plt.scatter(x=x, y=y_hat)\n",
        "plt.show()"
      ],
      "execution_count": 18,
      "outputs": [
        {
          "output_type": "display_data",
          "data": {
            "image/png": "[encoded data removed]",
            "text/plain": [
              "<Figure size 432x288 with 1 Axes>"
            ]
          },
          "metadata": {
            "needs_background": "light"
          }
        }
      ]
    }
  ]
}