{
  "nbformat": 4,
  "nbformat_minor": 0,
  "metadata": {
    "colab": {
      "name": "Linear regression.ipynb",
      "provenance": []
    },
    "kernelspec": {
      "name": "python3",
      "display_name": "Python 3"
    },
    "language_info": {
      "name": "python"
    }
  },
  "cells": [
    {
      "cell_type": "code",
      "metadata": {
        "id": "pkhMbRmex1sK"
      },
      "source": [
        "import matplotlib.pyplot as plt\n",
        "import numpy as np"
      ],
      "execution_count": 1,
      "outputs": []
    },
    {
      "cell_type": "code",
      "metadata": {
        "colab": {
          "base_uri": "https://localhost:8080/",
          "height": 265
        },
        "id": "Z6O0uxkpyUkY",
        "outputId": "139740e7-3a05-4ae2-dfa2-1bf0e9e967d0"
      },
      "source": [
        "np.random.seed(0)\n",
        "x=2-3*np.random.normal(0,1,100)\n",
        "y=2*x+np.random.normal(-3,3,100)\n",
        "plt.scatter(x,y,s=10)\n",
        "plt.show()"
      ],
      "execution_count": 20,
      "outputs": [
        {
          "output_type": "display_data",
          "data": {
            "image/png": "[encoded data removed]",
            "text/plain": [
              "<Figure size 432x288 with 1 Axes>"
            ]
          },
          "metadata": {
            "needs_background": "light"
          }
        }
      ]
    },
    {
      "cell_type": "code",
      "metadata": {
        "id": "-CP5chIpzDu5"
      },
      "source": [
        "x=x[:,np.newaxis]\n",
        "y=y[:,np.newaxis]"
      ],
      "execution_count": 21,
      "outputs": []
    },
    {
      "cell_type": "code",
      "metadata": {
        "id": "skKh1I2MzJNR"
      },
      "source": [
        "ones = np.ones([x.shape[0], 1]) \n",
        "X = np.concatenate([ones, x],1)"
      ],
      "execution_count": 22,
      "outputs": []
    },
    {
      "cell_type": "code",
      "metadata": {
        "id": "rD26qYuNzd1_"
      },
      "source": [
        "alpha = 0.1\n",
        "iters = 100\n",
        "theta = np.array([[1.0, 1.0]])"
      ],
      "execution_count": 63,
      "outputs": []
    },
    {
      "cell_type": "markdown",
      "metadata": {
        "id": "omDktvR4O0FS"
      },
      "source": [
        "**Using |X-x'|^3 as loss function**"
      ]
    },
    {
      "cell_type": "code",
      "metadata": {
        "id": "QJIY_WnCzmoW"
      },
      "source": [
        "def computeCost(X, y, theta):\n",
        "    inner = np.power(abs((X @ theta.T) - y), 3) \n",
        "    return np.sum(inner) / (len(X))"
      ],
      "execution_count": 46,
      "outputs": []
    },
    {
      "cell_type": "code",
      "metadata": {
        "colab": {
          "base_uri": "https://localhost:8080/"
        },
        "id": "H2sZqTdsz4Pm",
        "outputId": "07111b9a-8461-4e18-eed5-1cbec678e4c2"
      },
      "source": [
        "computeCost(X, y, theta)"
      ],
      "execution_count": 29,
      "outputs": [
        {
          "output_type": "execute_result",
          "data": {
            "text/plain": [
              "71.20627616597852"
            ]
          },
          "metadata": {},
          "execution_count": 29
        }
      ]
    },
    {
      "cell_type": "code",
      "metadata": {
        "id": "2NWihsRd0A6Y"
      },
      "source": [
        "def gradientDescent(X, y, theta, alpha, iters):\n",
        "    for i in range(iters):\n",
        "        theta = theta - ((3*alpha)/(len(X))) * np.sum(np.power((X @ theta.T - y),2) * X, axis=0)\n",
        "        cost = computeCost(X, y, theta)\n",
        "        \n",
        "    return (theta, cost)"
      ],
      "execution_count": 66,
      "outputs": []
    },
    {
      "cell_type": "code",
      "metadata": {
        "id": "0IHmSVPF0Dyu"
      },
      "source": [
        "g, cost = gradientDescent(X, y, theta, alpha, len(X))  \n",
        "print(g, cost)"
      ],
      "execution_count": null,
      "outputs": []
    },
    {
      "cell_type": "code",
      "metadata": {
        "colab": {
          "base_uri": "https://localhost:8080/",
          "height": 282
        },
        "id": "2ZX0Yhwc0NRZ",
        "outputId": "ccf17515-955a-450e-bd3d-3af574ecbf94"
      },
      "source": [
        "plt.scatter(x, y)\n",
        "axes = plt.gca()\n",
        "x_vals = np.array(axes.get_xlim()) \n",
        "y_vals = g[0][0] + g[0][1]* x_vals #the line equation\n",
        "plt.plot(x_vals, y_vals, '--')"
      ],
      "execution_count": 65,
      "outputs": [
        {
          "output_type": "execute_result",
          "data": {
            "text/plain": [
              "[<matplotlib.lines.Line2D at 0x7f19b99a7250>]"
            ]
          },
          "metadata": {},
          "execution_count": 65
        },
        {
          "output_type": "display_data",
          "data": {
            "image/png": "[encoded data removed]",
            "text/plain": [
              "<Figure size 432x288 with 1 Axes>"
            ]
          },
          "metadata": {
            "needs_background": "light"
          }
        }
      ]
    },
    {
      "cell_type": "markdown",
      "metadata": {
        "id": "zTSUHxzuPPHX"
      },
      "source": [
        "**Using |X-x'| as loss function**"
      ]
    },
    {
      "cell_type": "code",
      "metadata": {
        "id": "RPwoqdDiPMj0"
      },
      "source": [
        "alpha = 0.1\n",
        "iters = 100\n",
        "theta2 = np.array([[1.0, 1.0]])"
      ],
      "execution_count": 60,
      "outputs": []
    },
    {
      "cell_type": "code",
      "metadata": {
        "id": "wzmGzNFGPvbA"
      },
      "source": [
        "def computeCost(X, y, theta2):\n",
        "    inner = np.sum(abs((X @ theta2.T) - y))\n",
        "    return inner / ( len(X))"
      ],
      "execution_count": 68,
      "outputs": []
    },
    {
      "cell_type": "code",
      "metadata": {
        "id": "Ap1mmkFaQI9G"
      },
      "source": [
        "def gradientDescent(X, y, theta2, alpha, iters):\n",
        "    for i in range(iters):\n",
        "        theta2 = theta2 - (alpha/(len(X))) * X\n",
        "        cost = computeCost(X, y, theta)\n",
        "        \n",
        "    return (theta2, cost)"
      ],
      "execution_count": 67,
      "outputs": []
    },
    {
      "cell_type": "code",
      "metadata": {
        "id": "GdHPSKrkQjMo"
      },
      "source": [
        "g, cost = gradientDescent(X, y, theta2, alpha,   iters)\n",
        "print(g, cost)"
      ],
      "execution_count": null,
      "outputs": []
    },
    {
      "cell_type": "code",
      "metadata": {
        "id": "PRt9IE7iSUXb"
      },
      "source": [
        "plt.scatter(x, y)\n",
        "axes = plt.gca()\n",
        "x_vals = np.array(axes.get_xlim()) \n",
        "y_vals = g[0][0] + g[0][1]* x_vals #the line equation\n",
        "plt.plot(x_vals, y_vals, '--')"
      ],
      "execution_count": null,
      "outputs": []
    }
  ]
}